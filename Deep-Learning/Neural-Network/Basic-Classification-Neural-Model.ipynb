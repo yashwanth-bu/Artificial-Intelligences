{
 "cells": [
  {
   "cell_type": "markdown",
   "id": "56b81f09",
   "metadata": {},
   "source": [
    "# Binary Classifier: Even vs Odd using TensorFlow\n",
    "\n",
    "This notebook trains a simple neural network using TensorFlow to classify numbers as **even** or **odd**, using their **5-bit binary representation**.\n",
    "\n",
    "---\n",
    "\n",
    "## Step 1: Import Required Libraries"
   ]
  },
  {
   "cell_type": "code",
   "execution_count": null,
   "id": "2ca97bff",
   "metadata": {},
   "outputs": [],
   "source": [
    "import numpy as np\n",
    "import tensorflow as tf\n",
    "from tensorflow import keras\n",
    "from tensorflow.keras import layers"
   ]
  },
  {
   "cell_type": "markdown",
   "id": "557d8e1c",
   "metadata": {},
   "source": [
    "We use:\n",
    "- `numpy` for numerical operations\n",
    "- `tensorflow` and `keras` to build and train the neural network\n",
    "\n",
    "---\n",
    "\n",
    "## Step 2: Binary Conversion Function"
   ]
  },
  {
   "cell_type": "code",
   "execution_count": 2,
   "id": "14c4d35e",
   "metadata": {},
   "outputs": [],
   "source": [
    "# Convert numbers to 5-bit binary (to cover up to 31)\n",
    "def int_to_binary(n):\n",
    "    return [int(x) for x in format(n, '05b')]"
   ]
  },
  {
   "cell_type": "markdown",
   "id": "41b98315",
   "metadata": {},
   "source": [
    "This function converts an integer to a list of 5 binary digits.\n",
    "\n",
    "📌 Example:\n",
    "```python\n",
    "int_to_binary(5)  # Output: [0, 0, 1, 0, 1]"
   ]
  },
  {
   "cell_type": "code",
   "execution_count": 3,
   "id": "2a8d8437",
   "metadata": {},
   "outputs": [],
   "source": [
    "# Build dataset: numbers 0 to 19\n",
    "X = np.array([int_to_binary(i) for i in range(20)])  # inputs\n",
    "y = np.array([0 if i % 2 == 0 else 1 for i in range(20)])  # even=0, odd=1"
   ]
  },
  {
   "cell_type": "markdown",
   "id": "deccb5d3",
   "metadata": {},
   "source": [
    "- `X`: Binary representations of numbers 0 to 19\n",
    "- `y`: Labels - 0 for even numbers, 1 for odd numbers\n",
    "\n",
    "---\n",
    "\n",
    "## Step 4: Build the Neural Network Model"
   ]
  },
  {
   "cell_type": "code",
   "execution_count": null,
   "id": "e76a9d65",
   "metadata": {},
   "outputs": [],
   "source": [
    "# Define model using Input layer\n",
    "model = keras.Sequential([\n",
    "    keras.Input(shape=(5,)),            # Input: 5 binary digits\n",
    "    layers.Dense(8, activation='relu'), # Hidden layer with 8 neurons\n",
    "    layers.Dense(4, activation='relu'), # Another hidden layer with 4 neurons\n",
    "    layers.Dense(1, activation='sigmoid') # Output: single probability (0 to 1)\n",
    "])"
   ]
  },
  {
   "cell_type": "markdown",
   "id": "3f547c16",
   "metadata": {},
   "source": [
    "We're using a basic feedforward neural network:\n",
    "- Input layer accepts 5 features (bits)\n",
    "- Two hidden layers (ReLU activation)\n",
    "- Output layer (sigmoid) gives a probability\n",
    "\n",
    "---\n",
    "\n",
    "## Step 5: Compile the Model"
   ]
  },
  {
   "cell_type": "code",
   "execution_count": null,
   "id": "09c04d9f",
   "metadata": {},
   "outputs": [],
   "source": [
    "# Compile model\n",
    "model.compile(optimizer='adam', loss='binary_crossentropy', metrics=['accuracy'])"
   ]
  },
  {
   "cell_type": "markdown",
   "id": "f5a51d9e",
   "metadata": {},
   "source": [
    "- Optimizer: `adam` (adaptive learning)\n",
    "- Loss: `binary_crossentropy` for binary classification\n",
    "- Metric: `accuracy`\n",
    "\n",
    "---\n",
    "\n",
    "## Step 6: Train the Model"
   ]
  },
  {
   "cell_type": "code",
   "execution_count": 5,
   "id": "9aa5971f",
   "metadata": {},
   "outputs": [
    {
     "data": {
      "text/plain": [
       "<keras.src.callbacks.history.History at 0x1876349afe0>"
      ]
     },
     "execution_count": 5,
     "metadata": {},
     "output_type": "execute_result"
    }
   ],
   "source": [
    "# Train\n",
    "model.fit(X, y, epochs=500, verbose=0)"
   ]
  },
  {
   "cell_type": "markdown",
   "id": "d2a1989e",
   "metadata": {},
   "source": [
    "We train the model for 500 epochs on the even/odd dataset.\n",
    "\n",
    "---\n",
    "\n",
    "## Step 7: Test the Model"
   ]
  },
  {
   "cell_type": "code",
   "execution_count": 6,
   "id": "118d7add",
   "metadata": {},
   "outputs": [
    {
     "name": "stdout",
     "output_type": "stream",
     "text": [
      "\u001b[1m1/1\u001b[0m \u001b[32m━━━━━━━━━━━━━━━━━━━━\u001b[0m\u001b[37m\u001b[0m \u001b[1m0s\u001b[0m 75ms/step\n"
     ]
    }
   ],
   "source": [
    "# Test with numbers 10, 11, 12, 13, 14\n",
    "test_numbers = [10, 11, 12, 13, 14]\n",
    "X_test = np.array([int_to_binary(n) for n in test_numbers])\n",
    "predictions = model.predict(X_test)"
   ]
  },
  {
   "cell_type": "markdown",
   "id": "c65df52c",
   "metadata": {},
   "source": [
    "We test the trained model on new numbers: 10 to 14.\n",
    "\n",
    "---\n",
    "\n",
    "## Step 8: Display the Predictions\n"
   ]
  },
  {
   "cell_type": "code",
   "execution_count": 7,
   "id": "9ee1adea",
   "metadata": {},
   "outputs": [
    {
     "name": "stdout",
     "output_type": "stream",
     "text": [
      "10 is even (confidence: 0.01)\n",
      "11 is odd (confidence: 0.66)\n",
      "12 is even (confidence: 0.02)\n",
      "13 is odd (confidence: 0.66)\n",
      "14 is even (confidence: 0.01)\n"
     ]
    }
   ],
   "source": [
    "# Print predictions\n",
    "for n, pred in zip(test_numbers, predictions):\n",
    "    print(f\"{n} is {'odd' if pred > 0.5 else 'even'} (confidence: {pred[0]:.2f})\")"
   ]
  },
  {
   "cell_type": "markdown",
   "id": "6af76fc9",
   "metadata": {},
   "source": [
    "This prints each number, the model's classification (odd/even), and the confidence score."
   ]
  }
 ],
 "metadata": {
  "kernelspec": {
   "display_name": "virtual",
   "language": "python",
   "name": "python3"
  },
  "language_info": {
   "codemirror_mode": {
    "name": "ipython",
    "version": 3
   },
   "file_extension": ".py",
   "mimetype": "text/x-python",
   "name": "python",
   "nbconvert_exporter": "python",
   "pygments_lexer": "ipython3",
   "version": "3.10.0"
  }
 },
 "nbformat": 4,
 "nbformat_minor": 5
}
