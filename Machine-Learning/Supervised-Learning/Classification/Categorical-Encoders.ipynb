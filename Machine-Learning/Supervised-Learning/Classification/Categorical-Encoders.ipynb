{
 "cells": [
  {
   "cell_type": "code",
   "execution_count": 1,
   "id": "9ca81261",
   "metadata": {},
   "outputs": [
    {
     "name": "stdout",
     "output_type": "stream",
     "text": [
      "Encoded Labels : [0 1 2 1 0]\n",
      "Reversed Encoded Labels : ['cat' 'dog' 'fish' 'dog' 'cat']\n"
     ]
    }
   ],
   "source": [
    "from sklearn.preprocessing import LabelEncoder\n",
    "\n",
    "labels = ['cat', 'dog', 'fish', 'dog', 'cat']\n",
    "le = LabelEncoder()\n",
    "encoded_labels = le.fit_transform(labels)\n",
    "\n",
    "print(f\"Encoded Labels : {encoded_labels}\")  # Output: [0 1 2 1 0]\n",
    "\n",
    "# To get back the original labels\n",
    "original_labels = le.inverse_transform(encoded_labels)\n",
    "print(f\"Reversed Encoded Labels : {original_labels}\")  # Output: ['cat' 'dog' 'fish' 'dog' 'cat']"
   ]
  },
  {
   "cell_type": "code",
   "execution_count": 2,
   "id": "a25807d0",
   "metadata": {},
   "outputs": [
    {
     "name": "stdout",
     "output_type": "stream",
     "text": [
      "One-hot encoded:\n",
      " [[0. 0. 1.]\n",
      " [0. 1. 0.]\n",
      " [1. 0. 0.]\n",
      " [0. 1. 0.]]\n",
      "\n",
      "Inverse transformed:\n",
      " [['red']\n",
      " ['green']\n",
      " ['blue']\n",
      " ['green']]\n"
     ]
    }
   ],
   "source": [
    "from sklearn.preprocessing import OneHotEncoder\n",
    "import numpy as np\n",
    "\n",
    "# Original data\n",
    "colors = np.array(['red', 'green', 'blue', 'green']).reshape(-1, 1)\n",
    "\n",
    "# Fit OneHotEncoder\n",
    "encoder = OneHotEncoder(sparse_output=False)\n",
    "encoded_colors = encoder.fit_transform(colors)\n",
    "\n",
    "print(\"One-hot encoded:\\n\", encoded_colors)\n",
    "\n",
    "# Reverse back to original labels\n",
    "original_colors = encoder.inverse_transform(encoded_colors)\n",
    "print(\"\\nInverse transformed:\\n\", original_colors)"
   ]
  },
  {
   "cell_type": "code",
   "execution_count": null,
   "id": "b7a6c53b",
   "metadata": {},
   "outputs": [
    {
     "name": "stdout",
     "output_type": "stream",
     "text": [
      "Label encoded: [0 1 2]\n",
      "One-hot encoded:\n",
      " [[0. 0. 1.]\n",
      " [0. 1. 0.]\n",
      " [1. 0. 0.]\n",
      " [0. 1. 0.]]\n"
     ]
    }
   ],
   "source": [
    "from sklearn.preprocessing import LabelEncoder, OneHotEncoder\n",
    "import numpy as np\n",
    "\n",
    "# LabelEncoder example (for target labels)\n",
    "labels = ['cat', 'dog', 'fish']\n",
    "le = LabelEncoder()\n",
    "encoded_labels = le.fit_transform(labels)\n",
    "print(\"Label encoded:\", encoded_labels)\n",
    "\n",
    "# OneHotEncoder example (for categorical features)\n",
    "colors = np.array(['red', 'green', 'blue', 'green']).reshape(-1, 1)\n",
    "ohe = OneHotEncoder(sparse_output=False)\n",
    "encoded_colors = ohe.fit_transform(colors)\n",
    "print(\"\\nOne-hot encoded:\\n\", encoded_colors)"
   ]
  },
  {
   "cell_type": "code",
   "execution_count": 4,
   "id": "022accf0",
   "metadata": {},
   "outputs": [
    {
     "name": "stdout",
     "output_type": "stream",
     "text": [
      "[[0.]\n",
      " [1.]\n",
      " [2.]\n",
      " [1.]]\n"
     ]
    }
   ],
   "source": [
    "from sklearn.preprocessing import OrdinalEncoder\n",
    "import numpy as np\n",
    "\n",
    "sizes = np.array(['small', 'medium', 'large', 'medium']).reshape(-1, 1)\n",
    "\n",
    "encoder = OrdinalEncoder(categories=[['small', 'medium', 'large']])\n",
    "encoded_sizes = encoder.fit_transform(sizes)\n",
    "print(encoded_sizes)\n",
    "# Output:\n",
    "# [[0.]\n",
    "#  [1.]\n",
    "#  [2.]\n",
    "#  [1.]]"
   ]
  },
  {
   "cell_type": "code",
   "execution_count": 5,
   "id": "a8433671",
   "metadata": {},
   "outputs": [
    {
     "name": "stdout",
     "output_type": "stream",
     "text": [
      "Original labels:\n",
      "['cat', 'dog', 'fish', 'dog', 'cat']\n",
      "\n",
      "One-hot encoded binary matrix:\n",
      "[[1 0 0]\n",
      " [0 1 0]\n",
      " [0 0 1]\n",
      " [0 1 0]\n",
      " [1 0 0]]\n",
      "\n",
      "Classes:\n",
      "['cat' 'dog' 'fish']\n",
      "\n",
      "Inverse transformed labels:\n",
      "['cat' 'dog' 'fish' 'dog' 'cat']\n"
     ]
    }
   ],
   "source": [
    "from sklearn.preprocessing import LabelBinarizer\n",
    "\n",
    "# Example labels (multiclass target)\n",
    "labels = ['cat', 'dog', 'fish', 'dog', 'cat']\n",
    "\n",
    "# Initialize LabelBinarizer\n",
    "lb = LabelBinarizer()\n",
    "\n",
    "# Fit and transform labels to one-hot binary matrix\n",
    "binary_labels = lb.fit_transform(labels)\n",
    "\n",
    "print(\"Original labels:\")\n",
    "print(labels)\n",
    "print(\"\\nOne-hot encoded binary matrix:\")\n",
    "print(binary_labels)\n",
    "\n",
    "# Show classes found by the encoder\n",
    "print(\"\\nClasses:\")\n",
    "print(lb.classes_)\n",
    "\n",
    "# Inverse transform back to original labels\n",
    "original_labels = lb.inverse_transform(binary_labels)\n",
    "print(\"\\nInverse transformed labels:\")\n",
    "print(original_labels)"
   ]
  },
  {
   "cell_type": "code",
   "execution_count": 6,
   "id": "9dcdbdf8",
   "metadata": {},
   "outputs": [
    {
     "name": "stdout",
     "output_type": "stream",
     "text": [
      "\n",
      "Binary labels one-hot encoded:\n",
      "[[1]\n",
      " [0]\n",
      " [1]\n",
      " [0]]\n",
      "\n",
      "Binary classes:\n",
      "['no' 'yes']\n",
      "\n",
      "Inverse transformed binary labels:\n",
      "['yes' 'no' 'yes' 'no']\n"
     ]
    }
   ],
   "source": [
    "# Example with binary labels\n",
    "binary_example = ['yes', 'no', 'yes', 'no']\n",
    "lb_binary = LabelBinarizer()\n",
    "binary_encoded = lb_binary.fit_transform(binary_example)\n",
    "print(\"\\nBinary labels one-hot encoded:\")\n",
    "print(binary_encoded)\n",
    "\n",
    "print(\"\\nBinary classes:\")\n",
    "print(lb_binary.classes_)\n",
    "\n",
    "print(\"\\nInverse transformed binary labels:\")\n",
    "print(lb_binary.inverse_transform(binary_encoded))"
   ]
  },
  {
   "cell_type": "code",
   "execution_count": 7,
   "id": "040aeaf6",
   "metadata": {},
   "outputs": [
    {
     "name": "stdout",
     "output_type": "stream",
     "text": [
      "\n",
      "Custom transformed data (to uppercase):\n",
      " [['CAT']\n",
      " ['DOG']\n",
      " ['FISH']]\n"
     ]
    }
   ],
   "source": [
    "from sklearn.preprocessing import FunctionTransformer\n",
    "\n",
    "def to_uppercase(X):\n",
    "    return np.char.upper(X)\n",
    "\n",
    "func_transformer = FunctionTransformer(to_uppercase)\n",
    "\n",
    "data = np.array(['cat', 'dog', 'fish']).reshape(-1, 1)\n",
    "transformed_data = func_transformer.fit_transform(data)\n",
    "\n",
    "print(\"\\nCustom transformed data (to uppercase):\\n\", transformed_data)"
   ]
  },
  {
   "cell_type": "code",
   "execution_count": 10,
   "id": "a47010c9",
   "metadata": {},
   "outputs": [
    {
     "name": "stdout",
     "output_type": "stream",
     "text": [
      "=== LabelEncoder ===\n",
      "Original labels: ['cat', 'dog', 'fish', 'dog', 'cat']\n",
      "Encoded labels: [0 1 2 1 0]\n",
      "Inverse transform: ['cat' 'dog' 'fish' 'dog' 'cat']\n"
     ]
    }
   ],
   "source": [
    "from sklearn.preprocessing import LabelEncoder, OneHotEncoder, LabelBinarizer, OrdinalEncoder, FunctionTransformer\n",
    "import numpy as np\n",
    "\n",
    "# Sample data\n",
    "labels = ['cat', 'dog', 'fish', 'dog', 'cat']          # For LabelEncoder & LabelBinarizer\n",
    "colors = np.array(['red', 'green', 'blue', 'green']).reshape(-1, 1)  # For OneHotEncoder\n",
    "sizes = np.array(['small', 'medium', 'large', 'medium']).reshape(-1, 1)  # For OrdinalEncoder\n",
    "binary_labels = ['yes', 'no', 'yes', 'no']             # For binary LabelBinarizer\n",
    "\n",
    "print(\"=== LabelEncoder ===\")\n",
    "le = LabelEncoder()\n",
    "encoded_labels = le.fit_transform(labels)\n",
    "print(\"Original labels:\", labels)\n",
    "print(\"Encoded labels:\", encoded_labels)\n",
    "print(\"Inverse transform:\", le.inverse_transform(encoded_labels))\n"
   ]
  },
  {
   "cell_type": "code",
   "execution_count": 11,
   "id": "d7a3589e",
   "metadata": {},
   "outputs": [
    {
     "name": "stdout",
     "output_type": "stream",
     "text": [
      "\n",
      "=== OneHotEncoder ===\n",
      "Original colors:\n",
      " ['red' 'green' 'blue' 'green']\n",
      "One-hot encoded colors:\n",
      " [[0. 0. 1.]\n",
      " [0. 1. 0.]\n",
      " [1. 0. 0.]\n",
      " [0. 1. 0.]]\n",
      "Inverse transform:\n",
      " [['red']\n",
      " ['green']\n",
      " ['blue']\n",
      " ['green']]\n"
     ]
    }
   ],
   "source": [
    "print(\"\\n=== OneHotEncoder ===\")\n",
    "ohe = OneHotEncoder(sparse_output=False)\n",
    "encoded_colors = ohe.fit_transform(colors)\n",
    "print(\"Original colors:\\n\", colors.flatten())\n",
    "print(\"One-hot encoded colors:\\n\", encoded_colors)\n",
    "print(\"Inverse transform:\\n\", ohe.inverse_transform(encoded_colors))"
   ]
  },
  {
   "cell_type": "code",
   "execution_count": 12,
   "id": "62be29fe",
   "metadata": {},
   "outputs": [
    {
     "name": "stdout",
     "output_type": "stream",
     "text": [
      "\n",
      "=== LabelBinarizer ===\n",
      "Original labels: ['cat', 'dog', 'fish', 'dog', 'cat']\n",
      "Binarized labels:\n",
      " [[1 0 0]\n",
      " [0 1 0]\n",
      " [0 0 1]\n",
      " [0 1 0]\n",
      " [1 0 0]]\n",
      "Inverse transform: ['cat' 'dog' 'fish' 'dog' 'cat']\n"
     ]
    }
   ],
   "source": [
    "print(\"\\n=== LabelBinarizer ===\")\n",
    "lb = LabelBinarizer()\n",
    "binary_matrix = lb.fit_transform(labels)\n",
    "print(\"Original labels:\", labels)\n",
    "print(\"Binarized labels:\\n\", binary_matrix)\n",
    "print(\"Inverse transform:\", lb.inverse_transform(binary_matrix))"
   ]
  },
  {
   "cell_type": "code",
   "execution_count": 13,
   "id": "33220282",
   "metadata": {},
   "outputs": [
    {
     "name": "stdout",
     "output_type": "stream",
     "text": [
      "\n",
      "Binary labels example with LabelBinarizer:\n",
      "Original binary labels: ['yes', 'no', 'yes', 'no']\n",
      "Binarized binary labels:\n",
      " [[1]\n",
      " [0]\n",
      " [1]\n",
      " [0]]\n",
      "Inverse transform: ['yes' 'no' 'yes' 'no']\n"
     ]
    }
   ],
   "source": [
    "print(\"\\nBinary labels example with LabelBinarizer:\")\n",
    "lb_binary = LabelBinarizer()\n",
    "binary_encoded = lb_binary.fit_transform(binary_labels)\n",
    "print(\"Original binary labels:\", binary_labels)\n",
    "print(\"Binarized binary labels:\\n\", binary_encoded)\n",
    "print(\"Inverse transform:\", lb_binary.inverse_transform(binary_encoded))"
   ]
  },
  {
   "cell_type": "code",
   "execution_count": 14,
   "id": "8b9be603",
   "metadata": {},
   "outputs": [
    {
     "name": "stdout",
     "output_type": "stream",
     "text": [
      "\n",
      "=== OrdinalEncoder ===\n",
      "Original sizes:\n",
      " ['small' 'medium' 'large' 'medium']\n",
      "Ordinal encoded sizes:\n",
      " [[0.]\n",
      " [1.]\n",
      " [2.]\n",
      " [1.]]\n",
      "Inverse transform:\n",
      " [['small']\n",
      " ['medium']\n",
      " ['large']\n",
      " ['medium']]\n"
     ]
    }
   ],
   "source": [
    "print(\"\\n=== OrdinalEncoder ===\")\n",
    "ordinal_encoder = OrdinalEncoder(categories=[['small', 'medium', 'large']])\n",
    "encoded_sizes = ordinal_encoder.fit_transform(sizes)\n",
    "print(\"Original sizes:\\n\", sizes.flatten())\n",
    "print(\"Ordinal encoded sizes:\\n\", encoded_sizes)\n",
    "print(\"Inverse transform:\\n\", ordinal_encoder.inverse_transform(encoded_sizes))"
   ]
  },
  {
   "cell_type": "code",
   "execution_count": 15,
   "id": "4157dfcb",
   "metadata": {},
   "outputs": [
    {
     "name": "stdout",
     "output_type": "stream",
     "text": [
      "\n",
      "=== FunctionTransformer ===\n",
      "Original data:\n",
      " ['cat' 'dog' 'fish']\n",
      "Custom transformed data (uppercase):\n",
      " ['CAT' 'DOG' 'FISH']\n"
     ]
    }
   ],
   "source": [
    "print(\"\\n=== FunctionTransformer ===\")\n",
    "def to_uppercase(X):\n",
    "    return np.char.upper(X)\n",
    "\n",
    "func_transformer = FunctionTransformer(to_uppercase)\n",
    "data = np.array(['cat', 'dog', 'fish']).reshape(-1, 1)\n",
    "transformed_data = func_transformer.fit_transform(data)\n",
    "print(\"Original data:\\n\", data.flatten())\n",
    "print(\"Custom transformed data (uppercase):\\n\", transformed_data.flatten())"
   ]
  },
  {
   "cell_type": "code",
   "execution_count": 9,
   "id": "b3876e21",
   "metadata": {},
   "outputs": [],
   "source": [
    "from sklearn.pipeline import make_pipeline\n",
    "from sklearn.preprocessing import OneHotEncoder\n",
    "from sklearn.linear_model import LogisticRegression\n",
    "from sklearn.compose import ColumnTransformer\n",
    "import numpy as np\n",
    "\n",
    "X = np.array([\n",
    "    ['red', 10],\n",
    "    ['green', 20],\n",
    "    ['blue', 15],\n",
    "    ['green', 25]\n",
    "])\n",
    "\n",
    "# Apply OneHotEncoder only to the first column (categorical)\n",
    "preprocessor = ColumnTransformer(\n",
    "    transformers=[\n",
    "        ('cat', OneHotEncoder(sparse_output=False), [0])  # column 0 is categorical\n",
    "    ],\n",
    "    remainder='passthrough'  # pass through other columns unchanged\n",
    ")\n",
    "\n",
    "pipeline = make_pipeline(preprocessor, LogisticRegression())\n",
    "\n",
    "# pipeline.fit(X, y)  # Fit with features X and target y"
   ]
  },
  {
   "cell_type": "code",
   "execution_count": 3,
   "id": "7287c97f",
   "metadata": {},
   "outputs": [],
   "source": [
    "import pandas as pd\n",
    "from sklearn.model_selection import train_test_split\n",
    "from sklearn.preprocessing import OneHotEncoder, OrdinalEncoder\n",
    "import category_encoders as ce\n",
    "\n",
    "# Create a simple dataset\n",
    "df = pd.DataFrame({\n",
    "    'Color': ['Red', 'Blue', 'Green', 'Blue', 'Red', 'Green', 'Red', 'Blue'],\n",
    "    'Size': ['S', 'M', 'L', 'M', 'L', 'S', 'M', 'L'],\n",
    "    'Target': [1, 0, 1, 0, 1, 0, 1, 0]\n",
    "})\n",
    "\n",
    "X = df[['Color', 'Size']]\n",
    "y = df['Target']\n",
    "\n",
    "# Split dataset\n",
    "X_train, X_test, y_train, y_test = train_test_split(X, y, test_size=0.25, random_state=42)\n",
    "\n",
    "# 1. OneHotEncoder\n",
    "ohe = OneHotEncoder(sparse_output=False)\n",
    "X_ohe = pd.DataFrame(ohe.fit_transform(X_train), columns=ohe.get_feature_names_out(X_train.columns))\n",
    "\n",
    "# 2. OrdinalEncoder\n",
    "oe = OrdinalEncoder()\n",
    "X_ordinal = pd.DataFrame(oe.fit_transform(X_train), columns=X_train.columns)\n",
    "\n",
    "# 3. TargetEncoder\n",
    "te = ce.TargetEncoder()\n",
    "X_target = te.fit_transform(X_train, y_train)\n",
    "\n",
    "# 4. Frequency/CountEncoder\n",
    "fe = ce.CountEncoder()\n",
    "X_freq = fe.fit_transform(X_train)\n",
    "\n",
    "# 5. BinaryEncoder\n",
    "be = ce.BinaryEncoder()\n",
    "X_binary = be.fit_transform(X_train)\n",
    "\n",
    "# 6. HashingEncoder\n",
    "he = ce.HashingEncoder(n_components=6)\n",
    "X_hash = he.fit_transform(X_train)"
   ]
  },
  {
   "cell_type": "code",
   "execution_count": 4,
   "id": "bed1a187",
   "metadata": {},
   "outputs": [
    {
     "data": {
      "text/html": [
       "<div>\n",
       "<style scoped>\n",
       "    .dataframe tbody tr th:only-of-type {\n",
       "        vertical-align: middle;\n",
       "    }\n",
       "\n",
       "    .dataframe tbody tr th {\n",
       "        vertical-align: top;\n",
       "    }\n",
       "\n",
       "    .dataframe thead th {\n",
       "        text-align: right;\n",
       "    }\n",
       "</style>\n",
       "<table border=\"1\" class=\"dataframe\">\n",
       "  <thead>\n",
       "    <tr style=\"text-align: right;\">\n",
       "      <th></th>\n",
       "      <th>Color_Blue</th>\n",
       "      <th>Color_Green</th>\n",
       "      <th>Color_Red</th>\n",
       "      <th>Size_L</th>\n",
       "      <th>Size_M</th>\n",
       "      <th>Size_S</th>\n",
       "    </tr>\n",
       "  </thead>\n",
       "  <tbody>\n",
       "    <tr>\n",
       "      <th>0</th>\n",
       "      <td>0.0</td>\n",
       "      <td>0.0</td>\n",
       "      <td>1.0</td>\n",
       "      <td>0.0</td>\n",
       "      <td>0.0</td>\n",
       "      <td>1.0</td>\n",
       "    </tr>\n",
       "    <tr>\n",
       "      <th>1</th>\n",
       "      <td>1.0</td>\n",
       "      <td>0.0</td>\n",
       "      <td>0.0</td>\n",
       "      <td>1.0</td>\n",
       "      <td>0.0</td>\n",
       "      <td>0.0</td>\n",
       "    </tr>\n",
       "    <tr>\n",
       "      <th>2</th>\n",
       "      <td>0.0</td>\n",
       "      <td>1.0</td>\n",
       "      <td>0.0</td>\n",
       "      <td>1.0</td>\n",
       "      <td>0.0</td>\n",
       "      <td>0.0</td>\n",
       "    </tr>\n",
       "    <tr>\n",
       "      <th>3</th>\n",
       "      <td>0.0</td>\n",
       "      <td>0.0</td>\n",
       "      <td>1.0</td>\n",
       "      <td>1.0</td>\n",
       "      <td>0.0</td>\n",
       "      <td>0.0</td>\n",
       "    </tr>\n",
       "    <tr>\n",
       "      <th>4</th>\n",
       "      <td>1.0</td>\n",
       "      <td>0.0</td>\n",
       "      <td>0.0</td>\n",
       "      <td>0.0</td>\n",
       "      <td>1.0</td>\n",
       "      <td>0.0</td>\n",
       "    </tr>\n",
       "  </tbody>\n",
       "</table>\n",
       "</div>"
      ],
      "text/plain": [
       "   Color_Blue  Color_Green  Color_Red  Size_L  Size_M  Size_S\n",
       "0         0.0          0.0        1.0     0.0     0.0     1.0\n",
       "1         1.0          0.0        0.0     1.0     0.0     0.0\n",
       "2         0.0          1.0        0.0     1.0     0.0     0.0\n",
       "3         0.0          0.0        1.0     1.0     0.0     0.0\n",
       "4         1.0          0.0        0.0     0.0     1.0     0.0"
      ]
     },
     "execution_count": 4,
     "metadata": {},
     "output_type": "execute_result"
    }
   ],
   "source": [
    "# OneHotEncoder:\n",
    "X_ohe.head()"
   ]
  },
  {
   "cell_type": "code",
   "execution_count": 5,
   "id": "edd4194c",
   "metadata": {},
   "outputs": [
    {
     "data": {
      "text/html": [
       "<div>\n",
       "<style scoped>\n",
       "    .dataframe tbody tr th:only-of-type {\n",
       "        vertical-align: middle;\n",
       "    }\n",
       "\n",
       "    .dataframe tbody tr th {\n",
       "        vertical-align: top;\n",
       "    }\n",
       "\n",
       "    .dataframe thead th {\n",
       "        text-align: right;\n",
       "    }\n",
       "</style>\n",
       "<table border=\"1\" class=\"dataframe\">\n",
       "  <thead>\n",
       "    <tr style=\"text-align: right;\">\n",
       "      <th></th>\n",
       "      <th>Color</th>\n",
       "      <th>Size</th>\n",
       "    </tr>\n",
       "  </thead>\n",
       "  <tbody>\n",
       "    <tr>\n",
       "      <th>0</th>\n",
       "      <td>2.0</td>\n",
       "      <td>2.0</td>\n",
       "    </tr>\n",
       "    <tr>\n",
       "      <th>1</th>\n",
       "      <td>0.0</td>\n",
       "      <td>0.0</td>\n",
       "    </tr>\n",
       "    <tr>\n",
       "      <th>2</th>\n",
       "      <td>1.0</td>\n",
       "      <td>0.0</td>\n",
       "    </tr>\n",
       "    <tr>\n",
       "      <th>3</th>\n",
       "      <td>2.0</td>\n",
       "      <td>0.0</td>\n",
       "    </tr>\n",
       "    <tr>\n",
       "      <th>4</th>\n",
       "      <td>0.0</td>\n",
       "      <td>1.0</td>\n",
       "    </tr>\n",
       "  </tbody>\n",
       "</table>\n",
       "</div>"
      ],
      "text/plain": [
       "   Color  Size\n",
       "0    2.0   2.0\n",
       "1    0.0   0.0\n",
       "2    1.0   0.0\n",
       "3    2.0   0.0\n",
       "4    0.0   1.0"
      ]
     },
     "execution_count": 5,
     "metadata": {},
     "output_type": "execute_result"
    }
   ],
   "source": [
    "#OrdinalEncoder:\n",
    "X_ordinal.head()"
   ]
  },
  {
   "cell_type": "code",
   "execution_count": 6,
   "id": "e29a2731",
   "metadata": {},
   "outputs": [
    {
     "data": {
      "text/html": [
       "<div>\n",
       "<style scoped>\n",
       "    .dataframe tbody tr th:only-of-type {\n",
       "        vertical-align: middle;\n",
       "    }\n",
       "\n",
       "    .dataframe tbody tr th {\n",
       "        vertical-align: top;\n",
       "    }\n",
       "\n",
       "    .dataframe thead th {\n",
       "        text-align: right;\n",
       "    }\n",
       "</style>\n",
       "<table border=\"1\" class=\"dataframe\">\n",
       "  <thead>\n",
       "    <tr style=\"text-align: right;\">\n",
       "      <th></th>\n",
       "      <th>Color</th>\n",
       "      <th>Size</th>\n",
       "    </tr>\n",
       "  </thead>\n",
       "  <tbody>\n",
       "    <tr>\n",
       "      <th>0</th>\n",
       "      <td>0.718155</td>\n",
       "      <td>0.710036</td>\n",
       "    </tr>\n",
       "    <tr>\n",
       "      <th>7</th>\n",
       "      <td>0.572099</td>\n",
       "      <td>0.666667</td>\n",
       "    </tr>\n",
       "    <tr>\n",
       "      <th>2</th>\n",
       "      <td>0.710036</td>\n",
       "      <td>0.666667</td>\n",
       "    </tr>\n",
       "    <tr>\n",
       "      <th>4</th>\n",
       "      <td>0.718155</td>\n",
       "      <td>0.666667</td>\n",
       "    </tr>\n",
       "    <tr>\n",
       "      <th>3</th>\n",
       "      <td>0.572099</td>\n",
       "      <td>0.643025</td>\n",
       "    </tr>\n",
       "  </tbody>\n",
       "</table>\n",
       "</div>"
      ],
      "text/plain": [
       "      Color      Size\n",
       "0  0.718155  0.710036\n",
       "7  0.572099  0.666667\n",
       "2  0.710036  0.666667\n",
       "4  0.718155  0.666667\n",
       "3  0.572099  0.643025"
      ]
     },
     "execution_count": 6,
     "metadata": {},
     "output_type": "execute_result"
    }
   ],
   "source": [
    "#TargetEncoder:\n",
    "X_target.head()"
   ]
  },
  {
   "cell_type": "code",
   "execution_count": 7,
   "id": "9fecc33d",
   "metadata": {},
   "outputs": [
    {
     "data": {
      "text/html": [
       "<div>\n",
       "<style scoped>\n",
       "    .dataframe tbody tr th:only-of-type {\n",
       "        vertical-align: middle;\n",
       "    }\n",
       "\n",
       "    .dataframe tbody tr th {\n",
       "        vertical-align: top;\n",
       "    }\n",
       "\n",
       "    .dataframe thead th {\n",
       "        text-align: right;\n",
       "    }\n",
       "</style>\n",
       "<table border=\"1\" class=\"dataframe\">\n",
       "  <thead>\n",
       "    <tr style=\"text-align: right;\">\n",
       "      <th></th>\n",
       "      <th>Color</th>\n",
       "      <th>Size</th>\n",
       "    </tr>\n",
       "  </thead>\n",
       "  <tbody>\n",
       "    <tr>\n",
       "      <th>0</th>\n",
       "      <td>3</td>\n",
       "      <td>1</td>\n",
       "    </tr>\n",
       "    <tr>\n",
       "      <th>7</th>\n",
       "      <td>2</td>\n",
       "      <td>3</td>\n",
       "    </tr>\n",
       "    <tr>\n",
       "      <th>2</th>\n",
       "      <td>1</td>\n",
       "      <td>3</td>\n",
       "    </tr>\n",
       "    <tr>\n",
       "      <th>4</th>\n",
       "      <td>3</td>\n",
       "      <td>3</td>\n",
       "    </tr>\n",
       "    <tr>\n",
       "      <th>3</th>\n",
       "      <td>2</td>\n",
       "      <td>2</td>\n",
       "    </tr>\n",
       "  </tbody>\n",
       "</table>\n",
       "</div>"
      ],
      "text/plain": [
       "   Color  Size\n",
       "0      3     1\n",
       "7      2     3\n",
       "2      1     3\n",
       "4      3     3\n",
       "3      2     2"
      ]
     },
     "execution_count": 7,
     "metadata": {},
     "output_type": "execute_result"
    }
   ],
   "source": [
    "#FrequencyEncoder:\n",
    "X_freq.head()"
   ]
  },
  {
   "cell_type": "code",
   "execution_count": 8,
   "id": "3c7f1fba",
   "metadata": {},
   "outputs": [
    {
     "data": {
      "text/html": [
       "<div>\n",
       "<style scoped>\n",
       "    .dataframe tbody tr th:only-of-type {\n",
       "        vertical-align: middle;\n",
       "    }\n",
       "\n",
       "    .dataframe tbody tr th {\n",
       "        vertical-align: top;\n",
       "    }\n",
       "\n",
       "    .dataframe thead th {\n",
       "        text-align: right;\n",
       "    }\n",
       "</style>\n",
       "<table border=\"1\" class=\"dataframe\">\n",
       "  <thead>\n",
       "    <tr style=\"text-align: right;\">\n",
       "      <th></th>\n",
       "      <th>Color_0</th>\n",
       "      <th>Color_1</th>\n",
       "      <th>Size_0</th>\n",
       "      <th>Size_1</th>\n",
       "    </tr>\n",
       "  </thead>\n",
       "  <tbody>\n",
       "    <tr>\n",
       "      <th>0</th>\n",
       "      <td>0</td>\n",
       "      <td>1</td>\n",
       "      <td>0</td>\n",
       "      <td>1</td>\n",
       "    </tr>\n",
       "    <tr>\n",
       "      <th>7</th>\n",
       "      <td>1</td>\n",
       "      <td>0</td>\n",
       "      <td>1</td>\n",
       "      <td>0</td>\n",
       "    </tr>\n",
       "    <tr>\n",
       "      <th>2</th>\n",
       "      <td>1</td>\n",
       "      <td>1</td>\n",
       "      <td>1</td>\n",
       "      <td>0</td>\n",
       "    </tr>\n",
       "    <tr>\n",
       "      <th>4</th>\n",
       "      <td>0</td>\n",
       "      <td>1</td>\n",
       "      <td>1</td>\n",
       "      <td>0</td>\n",
       "    </tr>\n",
       "    <tr>\n",
       "      <th>3</th>\n",
       "      <td>1</td>\n",
       "      <td>0</td>\n",
       "      <td>1</td>\n",
       "      <td>1</td>\n",
       "    </tr>\n",
       "  </tbody>\n",
       "</table>\n",
       "</div>"
      ],
      "text/plain": [
       "   Color_0  Color_1  Size_0  Size_1\n",
       "0        0        1       0       1\n",
       "7        1        0       1       0\n",
       "2        1        1       1       0\n",
       "4        0        1       1       0\n",
       "3        1        0       1       1"
      ]
     },
     "execution_count": 8,
     "metadata": {},
     "output_type": "execute_result"
    }
   ],
   "source": [
    "#BinaryEncoder:\n",
    "X_binary.head()"
   ]
  },
  {
   "cell_type": "code",
   "execution_count": 9,
   "id": "b26d3e40",
   "metadata": {},
   "outputs": [
    {
     "data": {
      "text/html": [
       "<div>\n",
       "<style scoped>\n",
       "    .dataframe tbody tr th:only-of-type {\n",
       "        vertical-align: middle;\n",
       "    }\n",
       "\n",
       "    .dataframe tbody tr th {\n",
       "        vertical-align: top;\n",
       "    }\n",
       "\n",
       "    .dataframe thead th {\n",
       "        text-align: right;\n",
       "    }\n",
       "</style>\n",
       "<table border=\"1\" class=\"dataframe\">\n",
       "  <thead>\n",
       "    <tr style=\"text-align: right;\">\n",
       "      <th></th>\n",
       "      <th>col_0</th>\n",
       "      <th>col_1</th>\n",
       "      <th>col_2</th>\n",
       "      <th>col_3</th>\n",
       "      <th>col_4</th>\n",
       "      <th>col_5</th>\n",
       "    </tr>\n",
       "  </thead>\n",
       "  <tbody>\n",
       "    <tr>\n",
       "      <th>0</th>\n",
       "      <td>0</td>\n",
       "      <td>0</td>\n",
       "      <td>0</td>\n",
       "      <td>0</td>\n",
       "      <td>1</td>\n",
       "      <td>1</td>\n",
       "    </tr>\n",
       "    <tr>\n",
       "      <th>7</th>\n",
       "      <td>0</td>\n",
       "      <td>0</td>\n",
       "      <td>0</td>\n",
       "      <td>2</td>\n",
       "      <td>0</td>\n",
       "      <td>0</td>\n",
       "    </tr>\n",
       "    <tr>\n",
       "      <th>2</th>\n",
       "      <td>0</td>\n",
       "      <td>0</td>\n",
       "      <td>0</td>\n",
       "      <td>2</td>\n",
       "      <td>0</td>\n",
       "      <td>0</td>\n",
       "    </tr>\n",
       "    <tr>\n",
       "      <th>4</th>\n",
       "      <td>0</td>\n",
       "      <td>0</td>\n",
       "      <td>0</td>\n",
       "      <td>1</td>\n",
       "      <td>0</td>\n",
       "      <td>1</td>\n",
       "    </tr>\n",
       "    <tr>\n",
       "      <th>3</th>\n",
       "      <td>0</td>\n",
       "      <td>0</td>\n",
       "      <td>1</td>\n",
       "      <td>1</td>\n",
       "      <td>0</td>\n",
       "      <td>0</td>\n",
       "    </tr>\n",
       "  </tbody>\n",
       "</table>\n",
       "</div>"
      ],
      "text/plain": [
       "   col_0  col_1  col_2  col_3  col_4  col_5\n",
       "0      0      0      0      0      1      1\n",
       "7      0      0      0      2      0      0\n",
       "2      0      0      0      2      0      0\n",
       "4      0      0      0      1      0      1\n",
       "3      0      0      1      1      0      0"
      ]
     },
     "execution_count": 9,
     "metadata": {},
     "output_type": "execute_result"
    }
   ],
   "source": [
    "#HashingEncoder:\n",
    "X_hash.head()"
   ]
  },
  {
   "cell_type": "code",
   "execution_count": null,
   "id": "343be2e5",
   "metadata": {},
   "outputs": [],
   "source": []
  }
 ],
 "metadata": {
  "kernelspec": {
   "display_name": "virtual",
   "language": "python",
   "name": "python3"
  },
  "language_info": {
   "codemirror_mode": {
    "name": "ipython",
    "version": 3
   },
   "file_extension": ".py",
   "mimetype": "text/x-python",
   "name": "python",
   "nbconvert_exporter": "python",
   "pygments_lexer": "ipython3",
   "version": "3.10.0"
  }
 },
 "nbformat": 4,
 "nbformat_minor": 5
}
