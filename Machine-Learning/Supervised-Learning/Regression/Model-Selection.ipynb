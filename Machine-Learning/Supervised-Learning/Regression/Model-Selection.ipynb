{
 "cells": [
  {
   "cell_type": "markdown",
   "id": "95b1cb8a",
   "metadata": {},
   "source": [
    "# Understanding `cross_val_score` and `GridSearchCV` in Machine Learning\n",
    "\n",
    "In machine learning, it's important to:\n",
    "- Check how well our model performs on **unseen data**\n",
    "- Find the **best combination of parameters** for the model\n",
    "\n",
    "Scikit-learn provides two very helpful tools for this:\n",
    "\n",
    "---\n",
    "\n",
    "## 1. `cross_val_score` — Cross-Validation Made Easy\n",
    "\n",
    "### What it does:\n",
    "`cross_val_score` evaluates how good your model is by using **cross-validation**.\n",
    "\n",
    "### Cross-validation (CV) explained simply:\n",
    "- Split your data into **K equal parts** (folds)\n",
    "- Use **K-1 parts to train** the model and **1 part to test**\n",
    "- Repeat this process **K times**, changing the test set each time\n",
    "- This gives a **more reliable score** than just one train/test split\n",
    "\n",
    "### What you get:\n",
    "- A list of scores (one for each fold)\n",
    "- The **average score** tells you how well your model performs\n",
    "\n",
    "---"
   ]
  },
  {
   "cell_type": "code",
   "execution_count": 1,
   "id": "d2103a77",
   "metadata": {},
   "outputs": [
    {
     "name": "stdout",
     "output_type": "stream",
     "text": [
      "Accuracy per fold: [0.96666667 0.96666667 0.93333333 0.93333333 1.        ]\n",
      "Mean accuracy: 0.96\n"
     ]
    }
   ],
   "source": [
    "from sklearn.model_selection import cross_val_score\n",
    "from sklearn.ensemble import RandomForestClassifier\n",
    "from sklearn.datasets import load_iris\n",
    "\n",
    "# Load dataset\n",
    "X, y = load_iris(return_X_y=True)\n",
    "\n",
    "# Initialize model\n",
    "model = RandomForestClassifier()\n",
    "\n",
    "# Perform 5-fold cross-validation\n",
    "scores = cross_val_score(model, X, y, cv=5)\n",
    "\n",
    "print(\"Accuracy per fold:\", scores)\n",
    "print(\"Mean accuracy:\", scores.mean())"
   ]
  },
  {
   "cell_type": "markdown",
   "id": "b4a8471a",
   "metadata": {},
   "source": [
    "---\n",
    "# GridSearchCV Explained – Simple and Detailed\n",
    "\n",
    "## What is GridSearchCV?\n",
    "\n",
    "`GridSearchCV` is a tool from **scikit-learn** that helps you find the **best hyperparameters** for your machine learning model.\n",
    "\n",
    "Think of it like this:\n",
    "- You want to know which combination of settings (hyperparameters) makes your model perform best.\n",
    "- `GridSearchCV` tries **every possible combination** from a list you give it.\n",
    "- It uses **cross-validation** to test how well each combination works.\n",
    "\n",
    "---\n",
    "\n",
    "## How GridSearchCV Works (Step-by-Step)\n",
    "\n",
    "1. You choose a **model** (like `SVC()` or `RandomForestClassifier()`).\n",
    "2. You create a **parameter grid** — a dictionary of parameters and values you want to try.\n",
    "3. `GridSearchCV`:\n",
    "   - Trains the model on different combinations of parameters\n",
    "   - Uses cross-validation to test performance\n",
    "   - Finds and returns the **best combination**\n",
    "\n",
    "---\n"
   ]
  },
  {
   "cell_type": "code",
   "execution_count": 2,
   "id": "bc4accef",
   "metadata": {},
   "outputs": [
    {
     "name": "stdout",
     "output_type": "stream",
     "text": [
      "Best parameters: {'C': 1, 'kernel': 'linear'}\n",
      "Best cross-validation score: 0.9800000000000001\n"
     ]
    }
   ],
   "source": [
    "from sklearn.model_selection import GridSearchCV\n",
    "from sklearn.svm import SVC\n",
    "\n",
    "# Define parameter grid\n",
    "param_grid = {\n",
    "    'C': [0.1, 1, 10],\n",
    "    'kernel': ['linear', 'rbf']\n",
    "}\n",
    "\n",
    "# Initialize model\n",
    "svc = SVC()\n",
    "\n",
    "# Perform grid search with 5-fold CV\n",
    "grid = GridSearchCV(estimator=svc, param_grid=param_grid, cv=5)\n",
    "grid.fit(X, y)\n",
    "\n",
    "print(\"Best parameters:\", grid.best_params_)\n",
    "print(\"Best cross-validation score:\", grid.best_score_)"
   ]
  },
  {
   "cell_type": "markdown",
   "id": "d74ba69c",
   "metadata": {},
   "source": [
    "---\n",
    "## Example - 1"
   ]
  },
  {
   "cell_type": "code",
   "execution_count": 3,
   "id": "a467b19b",
   "metadata": {},
   "outputs": [],
   "source": [
    "import numpy as np\n",
    "import matplotlib.pyplot as plt\n",
    "from sklearn.linear_model import LinearRegression\n",
    "from sklearn.preprocessing import PolynomialFeatures\n",
    "from sklearn.pipeline import Pipeline\n",
    "from sklearn.model_selection import GridSearchCV\n",
    "from sklearn.metrics import mean_squared_error"
   ]
  },
  {
   "cell_type": "code",
   "execution_count": 4,
   "id": "3b961536",
   "metadata": {},
   "outputs": [],
   "source": [
    "# 1. Create some sample nonlinear data\n",
    "np.random.seed(0)\n",
    "X = np.sort(np.random.rand(100, 1) * 2 - 1, axis=0)  # X in range [-1, 1]\n",
    "y = X**3 + 0.1 * np.random.randn(100, 1)             # Cubic relation with noise\n",
    "y = y.ravel()"
   ]
  },
  {
   "cell_type": "code",
   "execution_count": 5,
   "id": "cd68657a",
   "metadata": {},
   "outputs": [],
   "source": [
    "# 2. Build a pipeline: PolynomialFeatures -> LinearRegression\n",
    "pipeline = Pipeline([\n",
    "    ('poly', PolynomialFeatures()),      # generates x^2, x^3, etc.\n",
    "    ('model', LinearRegression())        # fits the polynomial regression\n",
    "])"
   ]
  },
  {
   "cell_type": "code",
   "execution_count": 6,
   "id": "0237baa8",
   "metadata": {},
   "outputs": [],
   "source": [
    "# 3. Define parameter grid (try polynomial degrees from 1 to 5)\n",
    "param_grid = {\n",
    "    'poly__degree': [1, 2, 3, 4, 5]\n",
    "}"
   ]
  },
  {
   "cell_type": "code",
   "execution_count": 7,
   "id": "dc7f8b83",
   "metadata": {},
   "outputs": [
    {
     "name": "stdout",
     "output_type": "stream",
     "text": [
      "Best degree: 3\n",
      "Best CV score (MSE): 0.009958684161071697\n"
     ]
    }
   ],
   "source": [
    "# 4. Apply GridSearchCV\n",
    "grid = GridSearchCV(pipeline, param_grid, cv=5, scoring='neg_mean_squared_error')\n",
    "grid.fit(X, y)\n",
    "\n",
    "# 5. Show the best result\n",
    "print(\"Best degree:\", grid.best_params_['poly__degree'])\n",
    "print(\"Best CV score (MSE):\", -grid.best_score_)"
   ]
  },
  {
   "cell_type": "code",
   "execution_count": 8,
   "id": "52b05708",
   "metadata": {},
   "outputs": [
    {
     "data": {
      "image/png": "[encoded data removed]",
      "text/plain": [
       "<Figure size 640x480 with 1 Axes>"
      ]
     },
     "metadata": {},
     "output_type": "display_data"
    }
   ],
   "source": [
    "# 6. Plot the result\n",
    "X_test = np.linspace(-1, 1, 100).reshape(-1, 1)\n",
    "y_pred = grid.best_estimator_.predict(X_test)\n",
    "\n",
    "plt.scatter(X, y, color='blue', label='Data')\n",
    "plt.plot(X_test, y_pred, color='red', label='Best Fit')\n",
    "plt.title(f\"Best Polynomial Degree: {grid.best_params_['poly__degree']}\")\n",
    "plt.legend()\n",
    "plt.show()"
   ]
  },
  {
   "cell_type": "markdown",
   "id": "32256847",
   "metadata": {},
   "source": [
    "---\n",
    "# Example - 2"
   ]
  },
  {
   "cell_type": "code",
   "execution_count": 9,
   "id": "4d7e377d",
   "metadata": {},
   "outputs": [],
   "source": [
    "from sklearn.model_selection import GridSearchCV\n",
    "from sklearn.ensemble import RandomForestClassifier\n",
    "from sklearn.datasets import load_iris"
   ]
  },
  {
   "cell_type": "code",
   "execution_count": 10,
   "id": "f93e06a3",
   "metadata": {},
   "outputs": [],
   "source": [
    "# Load dataset\n",
    "X, y = load_iris(return_X_y=True)"
   ]
  },
  {
   "cell_type": "code",
   "execution_count": 11,
   "id": "b0641f58",
   "metadata": {},
   "outputs": [],
   "source": [
    "# Define model\n",
    "rf = RandomForestClassifier()\n",
    "\n",
    "# Define hyperparameters to search\n",
    "param_grid = {\n",
    "    'n_estimators': [50, 100, 200],\n",
    "    'max_depth': [None, 3, 5, 10],\n",
    "    'min_samples_split': [2, 5],\n",
    "    'min_samples_leaf': [1, 2],\n",
    "    'max_features': ['sqrt', 'log2']\n",
    "}"
   ]
  },
  {
   "cell_type": "code",
   "execution_count": 12,
   "id": "f9848c3a",
   "metadata": {},
   "outputs": [],
   "source": [
    "# Set up GridSearchCV\n",
    "grid_search = GridSearchCV(estimator=rf, param_grid=param_grid, cv=5, scoring='accuracy')"
   ]
  },
  {
   "cell_type": "code",
   "execution_count": 13,
   "id": "c9a1e791",
   "metadata": {},
   "outputs": [
    {
     "name": "stdout",
     "output_type": "stream",
     "text": [
      "Best parameters: {'max_depth': None, 'max_features': 'sqrt', 'min_samples_leaf': 1, 'min_samples_split': 2, 'n_estimators': 200}\n",
      "Best accuracy: 0.9666666666666668\n"
     ]
    }
   ],
   "source": [
    "# Fit to data\n",
    "grid_search.fit(X, y)\n",
    "\n",
    "# Best model and score\n",
    "print(\"Best parameters:\", grid_search.best_params_)\n",
    "print(\"Best accuracy:\", grid_search.best_score_)"
   ]
  },
  {
   "cell_type": "code",
   "execution_count": 14,
   "id": "6dc7e56e",
   "metadata": {},
   "outputs": [],
   "source": [
    "# Best model\n",
    "best_model = grid_search.best_estimator_"
   ]
  },
  {
   "cell_type": "code",
   "execution_count": 15,
   "id": "22a1bb51",
   "metadata": {},
   "outputs": [],
   "source": [
    "import pandas as pd\n",
    "import seaborn as sns\n",
    "\n",
    "# Convert cv_results_ to DataFrame\n",
    "results_df = pd.DataFrame(grid_search.cv_results_)"
   ]
  },
  {
   "cell_type": "code",
   "execution_count": 16,
   "id": "00a4db9a",
   "metadata": {},
   "outputs": [
    {
     "data": {
      "image/png": "[encoded data removed]",
      "text/plain": [
       "<Figure size 800x600 with 2 Axes>"
      ]
     },
     "metadata": {},
     "output_type": "display_data"
    }
   ],
   "source": [
    "# Pivot the results for heatmap\n",
    "heatmap_data = results_df.pivot_table(\n",
    "    values=\"mean_test_score\",\n",
    "    index=\"param_n_estimators\",\n",
    "    columns=\"param_max_depth\"\n",
    ")\n",
    "\n",
    "# Plot heatmap\n",
    "plt.figure(figsize=(8, 6))\n",
    "sns.heatmap(heatmap_data, annot=True, fmt=\".3f\", cmap=\"viridis\")\n",
    "plt.title(\"Accuracy Heatmap: n_estimators vs max_depth\")\n",
    "plt.xlabel(\"max_depth\")\n",
    "plt.ylabel(\"n_estimators\")\n",
    "plt.tight_layout()\n",
    "plt.show()"
   ]
  },
  {
   "cell_type": "markdown",
   "id": "1869072a",
   "metadata": {},
   "source": [
    "---"
   ]
  },
  {
   "cell_type": "markdown",
   "id": "8e5915bf",
   "metadata": {},
   "source": [
    "## 📒Additional Models"
   ]
  },
  {
   "cell_type": "code",
   "execution_count": 17,
   "id": "5548b6e2",
   "metadata": {},
   "outputs": [
    {
     "name": "stdout",
     "output_type": "stream",
     "text": [
      "Best parameters: {'n_estimators': 50, 'min_samples_split': 5, 'min_samples_leaf': 2, 'max_features': 'log2', 'max_depth': 3}\n",
      "Best accuracy: 0.9666666666666668\n"
     ]
    }
   ],
   "source": [
    "from sklearn.model_selection import RandomizedSearchCV\n",
    "\n",
    "search = RandomizedSearchCV(estimator=rf, param_distributions=param_grid, n_iter=50, cv=5, scoring='accuracy')\n",
    "search.fit(X, y)\n",
    "print(\"Best parameters:\", search.best_params_)\n",
    "print(\"Best accuracy:\", search.best_score_)"
   ]
  },
  {
   "cell_type": "code",
   "execution_count": 18,
   "id": "9619a5d8",
   "metadata": {},
   "outputs": [],
   "source": [
    "best_model = search.best_estimator_"
   ]
  },
  {
   "cell_type": "code",
   "execution_count": 19,
   "id": "6005e2ae",
   "metadata": {},
   "outputs": [
    {
     "name": "stdout",
     "output_type": "stream",
     "text": [
      "Best parameters: {'max_depth': 5, 'max_features': 'log2', 'min_samples_leaf': 1, 'min_samples_split': 2, 'n_estimators': 200}\n",
      "Best accuracy: 0.9666666666666666\n"
     ]
    }
   ],
   "source": [
    "from sklearn.experimental import enable_halving_search_cv\n",
    "from sklearn.model_selection import HalvingGridSearchCV\n",
    "\n",
    "Halving = HalvingGridSearchCV(rf, param_grid, cv=5, scoring='accuracy')\n",
    "Halving.fit(X, y)\n",
    "print(\"Best parameters:\", Halving.best_params_)\n",
    "print(\"Best accuracy:\", Halving.best_score_)"
   ]
  },
  {
   "cell_type": "code",
   "execution_count": 20,
   "id": "ce54b325",
   "metadata": {},
   "outputs": [],
   "source": [
    "best_model = Halving.best_estimator_"
   ]
  },
  {
   "cell_type": "code",
   "execution_count": 24,
   "id": "a67c2a5e",
   "metadata": {},
   "outputs": [
    {
     "name": "stdout",
     "output_type": "stream",
     "text": [
      "Best trial:\n",
      "  Accuracy: 0.9666666666666668\n",
      "  Params: \n",
      "    n_estimators: 175\n",
      "    max_depth: 5\n",
      "    max_features: None\n"
     ]
    }
   ],
   "source": [
    "import optuna\n",
    "\n",
    "optuna.logging.set_verbosity(optuna.logging.WARNING)  # Hide trial info\n",
    "\n",
    "def objective(trial):\n",
    "    n_estimators = trial.suggest_int('n_estimators', 10, 200)\n",
    "    max_depth = trial.suggest_int('max_depth', 2, 20)\n",
    "    max_features = trial.suggest_categorical('max_features', ['sqrt', 'log2', None])\n",
    "    \n",
    "    clf = RandomForestClassifier(\n",
    "        n_estimators=n_estimators,\n",
    "        max_depth=max_depth,\n",
    "        max_features=max_features,\n",
    "        random_state=42\n",
    "    )\n",
    "    \n",
    "    score = cross_val_score(clf, X, y, cv=5, scoring='accuracy').mean()\n",
    "    return score\n",
    "\n",
    "study = optuna.create_study(direction=\"maximize\")\n",
    "study.optimize(objective, n_trials=50)\n",
    "\n",
    "print(\"Best trial:\")\n",
    "trial = study.best_trial\n",
    "print(f\"  Accuracy: {trial.value}\")\n",
    "print(\"  Params: \")\n",
    "for key, value in trial.params.items():\n",
    "    print(f\"    {key}: {value}\")\n"
   ]
  },
  {
   "cell_type": "code",
   "execution_count": 25,
   "id": "586f8593",
   "metadata": {},
   "outputs": [],
   "source": [
    "best_params = study.best_params\n",
    "best_model = RandomForestClassifier(**best_params, random_state=42)"
   ]
  },
  {
   "cell_type": "code",
   "execution_count": 26,
   "id": "af19ba9e",
   "metadata": {},
   "outputs": [],
   "source": [
    "#Hyperband\n",
    "from sklearn.pipeline import Pipeline\n",
    "from sklearn.preprocessing import StandardScaler, MinMaxScaler\n",
    "\n",
    "pipeline = Pipeline([\n",
    "    ('scaler', StandardScaler()),\n",
    "    ('model', SVC())\n",
    "])\n",
    "\n",
    "param_grid = {\n",
    "    'scaler': [StandardScaler(), MinMaxScaler()],\n",
    "    'model__C': [0.1, 1, 10]\n",
    "}\n",
    "\n",
    "Hyperband = GridSearchCV(pipeline, param_grid, cv=5)"
   ]
  },
  {
   "cell_type": "markdown",
   "id": "9e922757",
   "metadata": {},
   "source": [
    "| Method              | Speed    | Accuracy | Best Use Case                         |\n",
    "| ------------------- | -------- | -------- | ------------------------------------- |\n",
    "| GridSearchCV        | ❌ Slow   | ✅ Good   | Small parameter spaces                |\n",
    "| RandomizedSearchCV  | ✅ Faster | ✅ Good   | Medium-large parameter spaces         |\n",
    "| HalvingGridSearchCV | ✅ Faster | ✅ Good   | Quick screening, early stopping       |\n",
    "| Bayesian (Optuna)   | ✅ Smart  | ✅ Best   | Expensive or large parameter tuning   |\n",
    "| Hyperband           | ✅ Smart  | ✅ Best   | Deep learning / computationally heavy |"
   ]
  }
 ],
 "metadata": {
  "kernelspec": {
   "display_name": "virtual",
   "language": "python",
   "name": "python3"
  },
  "language_info": {
   "codemirror_mode": {
    "name": "ipython",
    "version": 3
   },
   "file_extension": ".py",
   "mimetype": "text/x-python",
   "name": "python",
   "nbconvert_exporter": "python",
   "pygments_lexer": "ipython3",
   "version": "3.10.0"
  }
 },
 "nbformat": 4,
 "nbformat_minor": 5
}
